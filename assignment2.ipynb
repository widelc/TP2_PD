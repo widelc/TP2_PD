{
 "cells": [
  {
   "cell_type": "code",
   "execution_count": 2,
   "id": "bd2228d0",
   "metadata": {
    "scrolled": false
   },
   "outputs": [],
   "source": [
    "from assignment2 import *\n",
    "\n",
    "pd.options.display.float_format = \"{:,.4f}\".format"
   ]
  },
  {
   "cell_type": "markdown",
   "source": [
    "Thomas Vaudescal : 11237578\n",
    "\n",
    "William Delisle : 11313171\n",
    "\n",
    "Sébastien Caron : 11271997"
   ],
   "metadata": {
    "collapsed": false
   }
  },
  {
   "cell_type": "code",
   "execution_count": 3,
   "id": "5ac05a05",
   "metadata": {},
   "outputs": [],
   "source": [
    "days_in_year = 252\n",
    "n_days = 10 * days_in_year\n",
    "horizon = np.arange(1, n_days + 2) / days_in_year"
   ]
  },
  {
   "cell_type": "code",
   "execution_count": 4,
   "outputs": [
    {
     "data": {
      "text/plain": "date\n1996-01-02       NaN\n1996-01-03    0.0007\n1996-01-04   -0.0061\n1996-01-05   -0.0018\n1996-01-08    0.0026\n               ...  \n2021-12-27    0.0137\n2021-12-28   -0.0010\n2021-12-29    0.0014\n2021-12-30   -0.0030\n2021-12-31   -0.0027\nName: log_xret, Length: 6547, dtype: float64"
     },
     "execution_count": 4,
     "metadata": {},
     "output_type": "execute_result"
    }
   ],
   "source": [
    "log_xreturns = get_log_excess_returns(days_in_year)\n",
    "log_xreturns"
   ],
   "metadata": {
    "collapsed": false
   }
  },
  {
   "attachments": {},
   "cell_type": "markdown",
   "id": "a0ef3d56",
   "metadata": {},
   "source": [
    "Utilisez les paramètres initiaux suivants pour démarrer l'estimation des paramètres d'un modèle NGARCH en date du 1996-12-31. Utilisez la notation suivante:\n",
    "\n",
    "\\begin{align*}\n",
    "r_{t+1} - r_{f} &= \\lambda \\sqrt{h_{t+1}}-\\frac{1}{2}h_{t+1}+\\sqrt{h_{t+1}}%\n",
    "\\varepsilon _{t+1}, \\\\\n",
    "h_{t+1}& =\\omega +\\alpha h_{t}\\left( \\varepsilon _{t}-\\gamma \\right)\n",
    "^{2}+\\beta h_{t}\n",
    "\\end{align*}"
   ]
  },
  {
   "cell_type": "markdown",
   "id": "43712678",
   "metadata": {},
   "source": [
    "Quels paramètres obtenez vous en maximisant la vraisemblance des rendements au 1996-12-31? Répétez l'exercice au 2020-02-01. Tabulez les paramètres de façon à pouvoir comparer les deux jeux de paramètres aisément. Ajoutez à votre table \n",
    "\n",
    "- la volatilité inconditionnelle (annualisée)\n",
    "- la volatilité conditionnelle (annualisée) prédite au lendemain de l'estimation\n",
    "- la correlation conditionnelle en $t$ entre $r_{t+1}$ et $h_{t+2}$\n",
    "- la volatilité conditionnelle en $t$ de la variance $h_{t+2}$\n",
    "\n",
    "que les paramètres impliques. De plus, inspirez-vous de la `note_on_erp.ipynb` et définissez une fonction:\n",
    "```\n",
    "def plot_var_forecasts(horizon, P, Q, annualized=False):\n",
    "```\n",
    "que vous appelerez avec `annualized=True` sur des simulations résultant des deux différents jeux de paramètres. Discutez des paramètres, des figures et des implications aux point de vue de la validité de la spécification (vs *misspecification*) du NGARCH."
   ]
  },
  {
   "cell_type": "code",
   "execution_count": 5,
   "outputs": [
    {
     "ename": "TypeError",
     "evalue": "only integer scalar arrays can be converted to a scalar index",
     "output_type": "error",
     "traceback": [
      "\u001B[0;31m---------------------------------------------------------------------------\u001B[0m",
      "\u001B[0;31mTypeError\u001B[0m                                 Traceback (most recent call last)",
      "Cell \u001B[0;32mIn[5], line 2\u001B[0m\n\u001B[1;32m      1\u001B[0m \u001B[38;5;66;03m# Call the function for the misspecified model (non-optimized)\u001B[39;00m\n\u001B[0;32m----> 2\u001B[0m out_Q1_m, P_1996_m, P_2020_m, Q_1996_m, Q_2020_m, ng1996_m, ng2020_m \u001B[38;5;241m=\u001B[39m \u001B[43mcompute_model_Q1\u001B[49m\u001B[43m(\u001B[49m\n\u001B[1;32m      3\u001B[0m \u001B[43m    \u001B[49m\u001B[43mlog_xreturns\u001B[49m\u001B[38;5;241;43m=\u001B[39;49m\u001B[43mlog_xreturns\u001B[49m\u001B[43m,\u001B[49m\n\u001B[1;32m      4\u001B[0m \u001B[43m    \u001B[49m\u001B[43mdays_in_year\u001B[49m\u001B[38;5;241;43m=\u001B[39;49m\u001B[43mdays_in_year\u001B[49m\u001B[43m,\u001B[49m\n\u001B[1;32m      5\u001B[0m \u001B[43m    \u001B[49m\u001B[43mhorizon\u001B[49m\u001B[38;5;241;43m=\u001B[39;49m\u001B[43mhorizon\u001B[49m\u001B[43m,\u001B[49m\n\u001B[1;32m      6\u001B[0m \u001B[43m    \u001B[49m\u001B[43mf_ngarch\u001B[49m\u001B[38;5;241;43m=\u001B[39;49m\u001B[43mf_ngarch\u001B[49m\u001B[43m,\u001B[49m\n\u001B[1;32m      7\u001B[0m \u001B[43m    \u001B[49m\u001B[43mmeasure\u001B[49m\u001B[38;5;241;43m=\u001B[39;49m\u001B[43mmeasure\u001B[49m\u001B[43m,\u001B[49m\n\u001B[1;32m      8\u001B[0m \u001B[43m    \u001B[49m\u001B[43mf_out_format_Q1\u001B[49m\u001B[38;5;241;43m=\u001B[39;49m\u001B[43mf_out_format_Q1\u001B[49m\u001B[43m,\u001B[49m\n\u001B[1;32m      9\u001B[0m \u001B[43m    \u001B[49m\u001B[43mmisspecified\u001B[49m\u001B[38;5;241;43m=\u001B[39;49m\u001B[38;5;28;43;01mTrue\u001B[39;49;00m\n\u001B[1;32m     10\u001B[0m \u001B[43m)\u001B[49m\n\u001B[1;32m     11\u001B[0m \u001B[38;5;66;03m# Misspecified Model Output\u001B[39;00m\n\u001B[1;32m     12\u001B[0m \u001B[38;5;28mprint\u001B[39m(\u001B[38;5;124m\"\u001B[39m\u001B[38;5;130;01m\\n\u001B[39;00m\u001B[38;5;124mMisspecified Model Output:\u001B[39m\u001B[38;5;124m\"\u001B[39m)\n",
      "File \u001B[0;32m~/Documents/Mes_documents/0_Ingenierie_Financiere/Hiver_2023/Produits_derives/TP2/assignment2.py:704\u001B[0m, in \u001B[0;36mcompute_model_Q1\u001B[0;34m(log_xreturns, days_in_year, horizon, f_ngarch, measure, f_out_format_Q1, misspecified)\u001B[0m\n\u001B[1;32m    701\u001B[0m n_paths \u001B[38;5;241m=\u001B[39m \u001B[38;5;241m10000\u001B[39m\n\u001B[1;32m    703\u001B[0m \u001B[38;5;66;03m# Simulation under P\u001B[39;00m\n\u001B[0;32m--> 704\u001B[0m P_1996 \u001B[38;5;241m=\u001B[39m measure(\u001B[38;5;241m*\u001B[39m\u001B[43mng1996\u001B[49m\u001B[38;5;241;43m.\u001B[39;49m\u001B[43msimulateP\u001B[49m\u001B[43m(\u001B[49m\u001B[38;5;241;43m100\u001B[39;49m\u001B[43m,\u001B[49m\u001B[43m \u001B[49m\u001B[43mn_days\u001B[49m\u001B[43m,\u001B[49m\u001B[43m \u001B[49m\u001B[43mn_paths\u001B[49m\u001B[43m,\u001B[49m\u001B[43m \u001B[49m\u001B[43mng1996\u001B[49m\u001B[38;5;241;43m.\u001B[39;49m\u001B[43mP_predict_h\u001B[49m\u001B[43m(\u001B[49m\u001B[43m)\u001B[49m\u001B[43m)\u001B[49m)\n\u001B[1;32m    705\u001B[0m P_2020 \u001B[38;5;241m=\u001B[39m measure(\n\u001B[1;32m    706\u001B[0m     \u001B[38;5;241m*\u001B[39mng2020\u001B[38;5;241m.\u001B[39msimulateP(\u001B[38;5;241m100\u001B[39m, n_days, n_paths, ng2020\u001B[38;5;241m.\u001B[39mP_predict_h(), P_1996\u001B[38;5;241m.\u001B[39mz)\n\u001B[1;32m    707\u001B[0m )\n\u001B[1;32m    709\u001B[0m \u001B[38;5;66;03m# Simulation under Q\u001B[39;00m\n",
      "File \u001B[0;32m~/Documents/Mes_documents/0_Ingenierie_Financiere/Hiver_2023/Produits_derives/TP2/assignment2.py:224\u001B[0m, in \u001B[0;36mngarch.simulateP\u001B[0;34m(self, S_t0, n_days, n_paths, h_tp1, z)\u001B[0m\n\u001B[1;32m    202\u001B[0m \u001B[38;5;28;01mdef\u001B[39;00m \u001B[38;5;21msimulateP\u001B[39m(\u001B[38;5;28mself\u001B[39m, S_t0, n_days, n_paths, h_tp1, z\u001B[38;5;241m=\u001B[39m\u001B[38;5;28;01mNone\u001B[39;00m):\n\u001B[1;32m    203\u001B[0m     \u001B[38;5;124;03m\"\"\"Simulate excess returns and their variance under the P measure\u001B[39;00m\n\u001B[1;32m    204\u001B[0m \n\u001B[1;32m    205\u001B[0m \u001B[38;5;124;03m    We consider that the simulation is starting at t0, and tp0 is a shorthand for \"time\u001B[39;00m\n\u001B[0;32m   (...)\u001B[0m\n\u001B[1;32m    222\u001B[0m \u001B[38;5;124;03m        z:       The shocks used in the simulation\u001B[39;00m\n\u001B[1;32m    223\u001B[0m \u001B[38;5;124;03m    \"\"\"\u001B[39;00m\n\u001B[0;32m--> 224\u001B[0m     ex_r \u001B[38;5;241m=\u001B[39m \u001B[43mnp\u001B[49m\u001B[38;5;241;43m.\u001B[39;49m\u001B[43mfull\u001B[49m\u001B[43m(\u001B[49m\u001B[43m(\u001B[49m\u001B[43mn_days\u001B[49m\u001B[43m,\u001B[49m\u001B[43m \u001B[49m\u001B[43mn_paths\u001B[49m\u001B[43m)\u001B[49m\u001B[43m,\u001B[49m\u001B[43m \u001B[49m\u001B[43mnp\u001B[49m\u001B[38;5;241;43m.\u001B[39;49m\u001B[43mnan\u001B[49m\u001B[43m)\u001B[49m\n\u001B[1;32m    225\u001B[0m     h \u001B[38;5;241m=\u001B[39m np\u001B[38;5;241m.\u001B[39mfull((n_days \u001B[38;5;241m+\u001B[39m \u001B[38;5;241m1\u001B[39m, n_paths), np\u001B[38;5;241m.\u001B[39mnan)\n\u001B[1;32m    226\u001B[0m     h[\u001B[38;5;241m0\u001B[39m, :] \u001B[38;5;241m=\u001B[39m h_tp1  \u001B[38;5;66;03m# because indices start at 0 in Python\u001B[39;00m\n",
      "File \u001B[0;32m~/opt/miniconda3/envs/TP2/lib/python3.8/site-packages/numpy/core/numeric.py:344\u001B[0m, in \u001B[0;36mfull\u001B[0;34m(shape, fill_value, dtype, order, like)\u001B[0m\n\u001B[1;32m    342\u001B[0m     fill_value \u001B[38;5;241m=\u001B[39m asarray(fill_value)\n\u001B[1;32m    343\u001B[0m     dtype \u001B[38;5;241m=\u001B[39m fill_value\u001B[38;5;241m.\u001B[39mdtype\n\u001B[0;32m--> 344\u001B[0m a \u001B[38;5;241m=\u001B[39m \u001B[43mempty\u001B[49m\u001B[43m(\u001B[49m\u001B[43mshape\u001B[49m\u001B[43m,\u001B[49m\u001B[43m \u001B[49m\u001B[43mdtype\u001B[49m\u001B[43m,\u001B[49m\u001B[43m \u001B[49m\u001B[43morder\u001B[49m\u001B[43m)\u001B[49m\n\u001B[1;32m    345\u001B[0m multiarray\u001B[38;5;241m.\u001B[39mcopyto(a, fill_value, casting\u001B[38;5;241m=\u001B[39m\u001B[38;5;124m'\u001B[39m\u001B[38;5;124munsafe\u001B[39m\u001B[38;5;124m'\u001B[39m)\n\u001B[1;32m    346\u001B[0m \u001B[38;5;28;01mreturn\u001B[39;00m a\n",
      "\u001B[0;31mTypeError\u001B[0m: only integer scalar arrays can be converted to a scalar index"
     ]
    }
   ],
   "source": [
    "# Call the function for the misspecified model (non-optimized)\n",
    "out_Q1_m, P_1996_m, P_2020_m, Q_1996_m, Q_2020_m, ng1996_m, ng2020_m = compute_model_Q1(\n",
    "    log_xreturns=log_xreturns,\n",
    "    days_in_year=days_in_year,\n",
    "    horizon=horizon,\n",
    "    f_ngarch=f_ngarch,\n",
    "    measure=measure,\n",
    "    f_out_format_Q1=f_out_format_Q1,\n",
    "    misspecified=True\n",
    ")\n",
    "# Misspecified Model Output\n",
    "print(\"\\nMisspecified Model Output:\")\n",
    "out_Q1_m"
   ],
   "metadata": {
    "collapsed": false
   }
  },
  {
   "cell_type": "code",
   "execution_count": null,
   "outputs": [],
   "source": [
    "plot_var_forecasts2(horizon, P_1996_m, Q_1996_m, annualized=True)"
   ],
   "metadata": {
    "collapsed": false
   }
  },
  {
   "cell_type": "code",
   "execution_count": null,
   "outputs": [],
   "source": [
    "# Call the function for the specified model (optimized)\n",
    "out_Q1, P_1996, P_2020, Q_1996, Q_2020, ng1996, ng2020 = compute_model_Q1(\n",
    "    log_xreturns=log_xreturns,\n",
    "    days_in_year=days_in_year,\n",
    "    horizon=horizon,\n",
    "    f_ngarch=f_ngarch,\n",
    "    measure=measure,\n",
    "    f_out_format_Q1=f_out_format_Q1,\n",
    "    misspecified=False\n",
    ")\n",
    "# Specified Model Output\n",
    "print(\"Specified Model Output:\")\n",
    "out_Q1"
   ],
   "metadata": {
    "collapsed": false
   }
  },
  {
   "cell_type": "code",
   "execution_count": null,
   "outputs": [],
   "source": [
    "plot_var_forecasts2(horizon, P_1996, Q_1996, annualized=True)"
   ],
   "metadata": {
    "collapsed": false
   }
  },
  {
   "cell_type": "code",
   "execution_count": null,
   "outputs": [],
   "source": [
    "print(\n",
    "    f\" Est-ce que les contraintes sur les paramètres et la condition de stationnarité sont satisfaites ? : \"\n",
    "    f\"{check_constraints_and_stationarity(out_Q1, bounds=[(0, 10), (0, 10), (0, 1), (0.5, 1), (0, 10)])}\"\n",
    ")                                                      #   lambda,   omega,   alpha,   gamma,    beta"
   ],
   "metadata": {
    "collapsed": false
   }
  },
  {
   "cell_type": "markdown",
   "source": [
    "- Au niveau des paramètres, on remarque ci-dessus que toutes les contraintes sont satisfaites, dont la contrainte de stationnarité : $\\alpha (1 + \\gamma^2) + \\beta < 1$."
   ],
   "metadata": {
    "collapsed": false
   }
  },
  {
   "attachments": {},
   "cell_type": "markdown",
   "id": "86dd8ba8",
   "metadata": {},
   "source": [
    "La volatilité conditionnelle sous Q est généralement supérieure à celle sous P en raison de l'aversion au risque des investisseurs. Les investisseurs exigent une prime de risque pour détenir des actifs risqués et cette prime est intégrée dans la tarification des produits dérivés. La volatilité sous Q reflète cette prime de risque en étant plus élevée que la volatilité sous P, car les investisseurs anticipent un niveau de risque plus élevé lorsqu'ils évaluent les produits dérivés (aussi appelée prime de volatilité)."
   ]
  },
  {
   "cell_type": "markdown",
   "id": "405b3ed7",
   "metadata": {},
   "source": [
    "# Question 2\n",
    "\n",
    "Nous souhaitons tarifer les options aux deux dates pour lesquelles nous avons estimé les paramètres ci-haut. Avant de procédez, comparer qualitativement les deux jeux de données. Soutenez votre propos à l'aide de statistiques descriptives (tables) et de figures au besoin. Quels filtres devrait-on appliquer aux données avant procéder à la tarification des options? Justifier."
   ]
  },
  {
   "cell_type": "code",
   "execution_count": null,
   "id": "7bd2cc79",
   "metadata": {},
   "outputs": [],
   "source": [
    "# Construction de la table descriptive\n",
    "option_info = read_and_concatenate_options(\n",
    "    \"opprcd961203_108105.csv\", \"opprcd200201_108105.csv\"\n",
    ")\n",
    "spx = load_price()\n",
    "\n",
    "f_describe_table(option_info, spx).dropna(axis=1)"
   ]
  },
  {
   "attachments": {},
   "cell_type": "markdown",
   "id": "1445ee78",
   "metadata": {},
   "source": [
    "La première étape, avant même de construire la table de statistiques descriptives, a été d'enlever les données pour lesquelles on a une volatilité implicite manquante et filtrer les lignes identiques. Ce sont les premiers filtres à appliquer aux données avant la tarification. Il est ensuite possible de comparer les deux jeux de données à l'aide de la table ci-dessus.\n",
    "\n",
    "Le premier constat frappant est la différence entre le nombre d'option pour lesquels on a des données. En effet, il y en a plus de 43 fois plus en 2020 qu'en 1996. L'intervalle de prix d'exercice possible a aussi beaucoup augmenté. Par exemple, pour les puts, on voit que le prix d'exercice minimal est plus bas en 2020 qu'en 1996, et ce, malgré le fait que le prix du S&P500 a beaucoup augmenté depuis. Ce phénomène est aussi observable à travers l'augmentation des valeurs maximales de volatilité implicite entre 1996 et 2020. Finalement, il y a aussi un écart entre les maturités offertes. On peut observer que des options autant à plus courte qu'à plus longue échéance sont disponibles en 2020 par rapport à 1996.\n",
    "\n",
    "Pour ce qui est des autres filtres à appliquer aux données avant la tarification, on doit premièrement s'assurer qu'il n'y a pas d'options avec une volatilité implicite extrême. En effet, une volatilité implicite extrême tend à ne pas représenter les vraies attentes des participants du marché. Nous fixerons à 125% la volatilité maximale pour laquelle on garde les données des options. Ensuite, on doit simplement s'assurer qu'il n'y a pas d'incohérence dans les données du delta (delta des calls entre 0 et 1 avec delta des puts entre -1 et 0). Le dernier filtre à appliquer sera sur le temps à maturité des options. Sachant que des options à très court terme peuvent se comporter de manière anormal, nous allons filtrer ceux avec une maturité de moins de 7 jours (une semaine). Nous allons aussi filtrer les options avec de très longue maturité car celles-ci manquent souvent de liquidité. La contrainte maximale pour la maturité sera de 550 jours (environ 1 an et demi).\n",
    "\n",
    "Il reste maintenant à appliquer les filtrations décrites. Or, on s'apperçoit à l'aide de la table descriptive qu'il sera seulement nécessaire de filtrer les données de 2020 par rapport au temps restant avant la maturité. C'est ce qui est fait ci-dessous.\n"
   ]
  },
  {
   "cell_type": "code",
   "execution_count": null,
   "id": "4b81fc8b",
   "metadata": {},
   "outputs": [],
   "source": [
    "# Filtration des données\n",
    "option_info = f_clean_table(option_info, spx, keep_moneyness=True).reset_index(\n",
    "    drop=True\n",
    ")\n",
    "option_info"
   ]
  },
  {
   "cell_type": "code",
   "execution_count": null,
   "outputs": [],
   "source": [
    "plot_iv_surface3d(option_info, date=\"1996-12-03\")"
   ],
   "metadata": {
    "collapsed": false
   }
  },
  {
   "cell_type": "code",
   "execution_count": null,
   "outputs": [],
   "source": [
    "plot_iv_surface3d(option_info, date=\"2020-02-03\")"
   ],
   "metadata": {
    "collapsed": false
   }
  },
  {
   "cell_type": "markdown",
   "id": "f67f60e7",
   "metadata": {},
   "source": [
    "# Question 3\n",
    "\n",
    "Afin de tarifer les options, nous devons calculer, pour chaque paire $(t,T)$, le prix ex-dividendes du sous-jacent. Dans le cas du S&P 500, deux options s'offre à nous:\n",
    "\n",
    "1. Utiliser en $t$ le taux de dividende prévu ($y$, en termes annuels) par OptionMetrics pour calculer $S(t) e^{-y(T-t)}$.\n",
    "\n",
    "2. Utiliser l'approche du Cboe pour calculer le option-implied forward price $F(t,T)$ et la courbe des taux fournis par OptionMetrics (`zerocd.csv`). Ensuite, calculer le ex-dividend price $F(t,T) e^{-r_{t,T} (T-t)}$, où $r_{t,T}$ est le taux sans risque à $t$ pour une maturité à $T$, \n",
    "\n",
    "Comparer les résultats obtenus à les des deux approches. Comment et pourquoi diffèrent-ils selon vous?"
   ]
  },
  {
   "cell_type": "code",
   "execution_count": null,
   "outputs": [],
   "source": [
    "option_info = read_and_concatenate_options(\n",
    "    \"opprcd961203_108105.csv\", \"opprcd200201_108105.csv\"\n",
    ")\n",
    "option_info = f_clean_table(option_info, spx).reset_index(drop=True)"
   ],
   "metadata": {
    "collapsed": false
   }
  },
  {
   "cell_type": "code",
   "execution_count": null,
   "metadata": {},
   "outputs": [],
   "source": [
    "# Ajouter les prix, les dividendes, les rf et la moneyness à option_info\n",
    "f_add_Q3_info(option_info, days_in_year)\n",
    "\n",
    "# Méthode 1\n",
    "exdiv_1 = option_info.S_t * np.exp(-option_info.y_t * (option_info.DTM) / days_in_year)\n",
    "option_info[\"exdiv_1\"] = exdiv_1\n",
    "\n",
    "# Méthode 2\n",
    "option_info = f_F_CBOE(option_info, days_in_year)\n",
    "exdiv_2 = option_info.F_CBOE * np.exp(-option_info.r_f * (option_info.DTM) / days_in_year)\n",
    "option_info[\"exdiv_2\"] = exdiv_2\n",
    "\n",
    "# Enlever les maturités pour lesquelles on ne peut pas calculer le forward CBOE\n",
    "option_info.dropna(subset=[\"exdiv_2\"], how=\"any\", inplace=True)\n",
    "\n",
    "# Graphique de comparaison\n",
    "comp_plot = f_plot_Q3_comparison(option_info)\n",
    "\n",
    "comparison_df = create_comparison_df(option_info)"
   ]
  },
  {
   "cell_type": "code",
   "execution_count": null,
   "outputs": [],
   "source": [
    "comparison_df"
   ],
   "metadata": {
    "collapsed": false
   }
  },
  {
   "cell_type": "markdown",
   "source": [
    "La première chose importante à noter est que, à cause des filtres appliqués à la question 2, on ne pouvait pas évaluer le option-implied forward price à l'aide de la méthode CBOE pour un nombre de jours à maturité de 179 (2020-02-03). En effet, il n'y avait pas au moins un prix d'exercice pour lequel on avait un call et un put à cette maturité. Les options pour cette maturité et pour la date d'évaluation du 2020-02-03 ne pourront donc malheureusement pas être analysées à cause de la nature des questions suivantes.\n",
    "\n",
    "Pour ce qui est de la comparaison entre les deux méthodes, il est possible d'observer dans les graphiques précédents qu'il y a toujours une différence. Pour les données de 1996, la méthode 1 donne toujours un prix ex-dividende supérieur à la méthode 2. Pour ce qui est des données de 2020, c'est seulement vrai pour des maturités jusqu'à 74 jours. De plus, pour cette maturité, les prix donnés par les deux méthodes sont presque identiques. Pour des maturités plus grandes, c'est la méthode 2 qui donne des prix ex-dividendes plus élevés. Il est aussi intéressant de noter que pour de longues maturités, l'écart entre les deux méthodes s'accentuent (aautant en 2020 qu'en 1996).\n",
    "\n",
    "D'ailleurs, le fait que les deux méthodes ne donne pas le même résultat pour le prix ex-dividende est logique. En effet, pour que ce soit le cas, il aurait fallu que pour chacune des maturités, il existe au moins un put ou un call pour lequel la moneyness(K/F) est exactement de 1. Cela aurait fait en sorte que l'approche du CBOE (méthode 2) coincide avec l'approche théorique (méthode 1). En d'autres mots, il aurait fallu une différence nulle entre le prix d'un put et d'un call de même strike pour que la méthode 2 coincide avec la méthode 1. Or, comme c'est jamais exactement le cas, il y a toujours une différence entre les deux méthodes."
   ],
   "metadata": {
    "collapsed": false
   }
  },
  {
   "cell_type": "markdown",
   "id": "3b728499",
   "metadata": {},
   "source": [
    "# Question 4\n",
    "\n",
    "Notez que sous BMS, un call\n",
    "\\begin{align*}\n",
    " c(t,T,K) &= \\hat{S}(t) N(d_1) - Ke^{-r_f(T-t)} N(d_2) \\\\\n",
    "% \\textrm{avec} \n",
    " d_i &= \\frac{\\log\\frac{\\hat{S}(t)}{K} + \\left(r_f \\pm \\frac{1}{2}\\sigma^2 \\right) (T-t)\n",
    "     }{\\sigma\\sqrt{T-t}}\n",
    "\\end{align*}\n",
    "avec $\\hat{S}(t) = S(t)e^{-y(T-t)} = F(t,T)e^{-r_f(T-t)}$. L'argument est similaire pour un put. On peut donc calculer les volatilités implicites de chaque option avec l'approche utilisée dans le TP1, avec $y=0$, mais en utilisant les prix ex-dividendes obtenus en Question 3. \n",
    "\n",
    "Comparer les 2 volatilités implicites ainsi obtenues avec celle fournie par OptionMetrics (`impl_volatility`). Illustrer votre comparaison. "
   ]
  },
  {
   "cell_type": "code",
   "execution_count": null,
   "id": "8731292c",
   "metadata": {},
   "outputs": [],
   "source": [
    "# Calculer les IV pour les deux types de prix ex-dividende\n",
    "impl_vol_mkt = bms.implied_volatility(\n",
    "    opt_price=option_info.mean_bidask,\n",
    "    S=[option_info.exdiv_1, option_info.exdiv_2],\n",
    "    K=option_info.strike_price / 1000,\n",
    "    r=option_info.r_f,\n",
    "    y=0,\n",
    "    T=option_info.DTM / days_in_year,\n",
    "    is_call=(option_info.cp_flag == \"C\"),\n",
    ")\n",
    "\n",
    "# Ajouter les résultats à option_info\n",
    "option_info[\"IV_method1\"] = impl_vol_mkt[0]\n",
    "option_info[\"IV_method2\"] = impl_vol_mkt[1]\n",
    "\n",
    "# Enlever les options pour lesquelles on a une IV négatif pour une des deux méthéodes\n",
    "option_info = option_info[\n",
    "    (option_info[\"IV_method1\"] >= 0) & (option_info[\"IV_method2\"] >= 0)\n",
    "]\n",
    "\n",
    "# Smile pour toutes les maturités (pour les deux dates)\n",
    "date_unique = np.unique(option_info.date)\n",
    "f_plot_Q4_smiles(option_info, date_unique[0], \"1996-12-03\")\n",
    "f_plot_Q4_smiles(option_info, date_unique[1], \"2020-02-03\")"
   ]
  },
  {
   "cell_type": "markdown",
   "id": "96bd25e8",
   "metadata": {},
   "source": [
    "# Question 5\n",
    "\n",
    "Dans la même optique, dénotons $\\tilde{R}_{t,T}^{(j)} = \\exp\\left\\lbrace\\sum_{k=1}^{T-t} r_{t+k}^{(j)} - r_f\\right\\rbrace$ le rendement excédentaire à terme obtenus par simulation du modèle NGARCH. Notez que le payoff actualisé d'une option peut être écrit \n",
    "\\begin{align*}\n",
    "  \\mathcal{O}^{(j)}_{i} = e^{-r_{t,T_i} (T_i-t)}\\max\\left\\lbrace 0, cp_i\\left(F_{t,T_i} \\tilde{R}_{t,T_i}^{(j)} - K\\right) \\right\\rbrace\n",
    "\\end{align*}\n",
    "où $cp_i = 1$ pour un call $i$ ($cp_i = -1$ pour le put $i$) de maturité $T_i$ et de strike $K_i$. Ainsi, seul $\\tilde{R}_{t,T}^{(j)}$ dépend de la trajectoire simulée. En $t$, en simulant une seule fois 100,000 trajectoires de longueur $T_{max} - t$, il est donc possible de tarifer toutes les options observées ce jour là.\n",
    "\n",
    "Procéder ainsi en utilisant l'un où l'autre des prix forward considérés en Question 3. Comparer les IV obtenues en Question 4, selon les prix de marché, avec les IV obtenus en appliquant la même méthode numérique au prix NGARCH. En particulier, tabuler les erreurs de tarifications, dans le domaine de la IV, en fonction d'intervalles de maturité et de moneyness."
   ]
  },
  {
   "cell_type": "code",
   "execution_count": null,
   "id": "b0627066",
   "metadata": {},
   "outputs": [],
   "source": [
    "# Simulation des returns avec le modèle GARCH pour plus grande maturité sous Q\n",
    "option_info = simulate_returns(option_info, ng1996, ng2020, n_paths=100_000)"
   ]
  },
  {
   "cell_type": "code",
   "execution_count": null,
   "outputs": [],
   "source": [
    "option_info"
   ],
   "metadata": {
    "collapsed": false
   }
  },
  {
   "cell_type": "code",
   "execution_count": null,
   "id": "2624353c",
   "metadata": {},
   "outputs": [],
   "source": [
    "option_info = calculate_option_prices(option_info, ng1996, ng2020)"
   ]
  },
  {
   "cell_type": "code",
   "execution_count": null,
   "outputs": [],
   "source": [
    "option_info"
   ],
   "metadata": {
    "collapsed": false
   }
  },
  {
   "cell_type": "code",
   "execution_count": null,
   "id": "3ac9665c",
   "metadata": {},
   "outputs": [],
   "source": [
    "impl_vol_ng = bms.implied_volatility(\n",
    "    opt_price=option_info.Option_price,\n",
    "    S=option_info.exdiv_2,\n",
    "    K=option_info.strike_price / 1000,\n",
    "    r=option_info.r_f,\n",
    "    y=0,\n",
    "    T=option_info.DTM / days_in_year,\n",
    "    is_call=(option_info.cp_flag == \"C\"),\n",
    ")\n"
   ]
  },
  {
   "cell_type": "code",
   "execution_count": null,
   "outputs": [],
   "source": [
    "option_info[\"IV_NGARCH\"] = impl_vol_ng\n",
    "option_info[\n",
    "    [\n",
    "        \"date\",\n",
    "        \"exdate\",\n",
    "        \"cp_flag\",\n",
    "        \"strike_price\",\n",
    "        \"impl_volatility\",\n",
    "        \"IV_method1\",\n",
    "        \"IV_method2\",\n",
    "        \"IV_NGARCH\",\n",
    "    ]\n",
    "]"
   ],
   "metadata": {
    "collapsed": false
   }
  },
  {
   "cell_type": "code",
   "execution_count": null,
   "outputs": [],
   "source": [],
   "metadata": {
    "collapsed": false
   }
  }
 ],
 "metadata": {
  "kernelspec": {
   "display_name": "Python 3 (ipykernel)",
   "language": "python",
   "name": "python3"
  },
  "language_info": {
   "codemirror_mode": {
    "name": "ipython",
    "version": 3
   },
   "file_extension": ".py",
   "mimetype": "text/x-python",
   "name": "python",
   "nbconvert_exporter": "python",
   "pygments_lexer": "ipython3",
   "version": "3.8.0"
  }
 },
 "nbformat": 4,
 "nbformat_minor": 5
}
