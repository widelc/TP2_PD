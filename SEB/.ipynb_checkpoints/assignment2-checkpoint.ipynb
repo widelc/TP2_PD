{
 "cells": [
  {
   "cell_type": "code",
   "execution_count": 1,
   "id": "bd2228d0",
   "metadata": {
    "scrolled": false
   },
   "outputs": [],
   "source": [
    "from assignment2 import *"
   ]
  },
  {
   "cell_type": "markdown",
   "id": "f31dfb34",
   "metadata": {},
   "source": [
    "Remise électronique sur ZoneCours au plus tard le **14 avril à 23h55** de:\n",
    "\n",
    "* Ce Jupyter notebook (.ipynb) en guise de rapport, une fois les réponses ajoutées. \n",
    "* **Tous** les fichiers *.py* nécessaires pour l'exécution du notebook\n",
    "\n",
    "Le rapport **doit**:\n",
    "\n",
    "* être en format .ipynb (des points seront enlevés pour tout autre format).\n",
    "* inclure le numéro de matricule de tous les membres de l'équipe dans la première cellule (i.e. remplacez ces consignes)\n",
    "* répondre aux questions et discuter des résultats à l'aide de tables, graphiques, et cellules markdown\n",
    "\n",
    "Barème:\n",
    "\n",
    "* **35%** Exactitude des résultats\n",
    "* **25%** Discussions complètes et **concises** (cellules ``markdown'')\n",
    "* **20%** Concision du notebook (.ipynb avec minimum de code) et clarté des tables & graphiques\n",
    "* **20%** Clarté du code (.py)\n",
    "\n",
    "Dans les tables, présentez 4 décimales après le point.\n",
    "\n",
    "# Question 1\n",
    "\n",
    "Nous considérons des données historiques d'options sur le S&P 500. Le fichier suivant sont dans le répertoire courant:\n",
    "```\n",
    "215K 28 Mar 20:48 distrd_108105.csv\n",
    "2.7M 28 Mar 21:01 opprcd200201_108105.csv\n",
    " 63K 28 Mar 21:02 opprcd961203_108105.csv\n",
    "511K 28 Mar 20:45 secprd_108105.csv\n",
    "9.3M 28 Mar 20:43 zerocd.csv\n",
    "```\n",
    "\n",
    "Les `secprd_108105.csv` et `zerocd.csv` contiennent, respectivement, les données sur le sous-jacent et la courbe des taux sans risque (capitalisés continuement). La fonction `get_log_excess_returns` (fournie dans `assignment2.py`. "
   ]
  },
  {
   "cell_type": "code",
   "execution_count": 2,
   "id": "5ac05a05",
   "metadata": {},
   "outputs": [],
   "source": [
    "days_in_year = 252\n",
    "log_xreturns = get_log_excess_returns(days_in_year)"
   ]
  },
  {
   "cell_type": "markdown",
   "id": "a0ef3d56",
   "metadata": {},
   "source": [
    "Utilisez les paramètres initiaux suivants pour démarrer l'estimation des paramètres d'un modèle NGARCH en date du 1996-12-31. Utilisez la notation suivante:\n",
    "\n",
    "\\begin{align*}\n",
    "r_{t+1} - r_{f} &= \\lambda \\sqrt{h_{t+1}}-\\frac{1}{2}h_{t+1}+\\sqrt{h_{t+1}}%\n",
    "\\varepsilon _{t+1}, \\\\\n",
    "h_{t+1}& =\\omega +\\alpha h_{t}\\left( \\varepsilon _{t}-\\gamma \\right)\n",
    "^{2}+\\beta h_{t},  \\label{eq:NGARCH-h}\n",
    "\\end{align*}"
   ]
  },
  {
   "cell_type": "code",
   "execution_count": 3,
   "id": "7c6cb5fa",
   "metadata": {},
   "outputs": [
    {
     "name": "stdout",
     "output_type": "stream",
     "text": [
      "ngarch(\n",
      "    lmbda = 0.01049,\n",
      "    omega = 3.82275328782378e-07,\n",
      "    alpha = 0.06253,\n",
      "    beta = 0.90825,\n",
      "    gamma = 0.5972,\n",
      "    days_in_year = 252\n",
      ")\n",
      "Persistence: 0.9930811894352\n",
      "Unconditional volatility: 0.11799746729790574\n"
     ]
    }
   ],
   "source": [
    "time_t = np.datetime64('1996-12-31')\n",
    "ng96 = ngarch.initialize_at(time_t, log_xreturns, days_in_year);"
   ]
  },
  {
   "cell_type": "markdown",
   "id": "43712678",
   "metadata": {},
   "source": [
    "Quels paramètres obtenez vous en maximisant la vraisemblance des rendements au 1996-12-31? Répétez l'exercice au 2020-02-01. Tabulez les paramètres de façon à pouvoir comparer les deux jeux de paramètres aisément. Ajoutez à votre table \n",
    "\n",
    "- la volatilité inconditionnelle (annualisée)\n",
    "- la volatilité conditionnelle (annualisée) prédite au lendemain de l'estimation\n",
    "- la correlation conditionnelle en $t$ entre $r_{t+1}$ et $h_{t+2}$\n",
    "- la volatilité conditionnelle en $t$ de la variance $h_{t+2}$\n",
    "\n",
    "que les paramètres impliques. De plus, inspirez-vous de la `note_on_erp.ipynb` et définissez une fonction:\n",
    "```\n",
    "def plot_var_forecasts(horizon, P, Q, annualized=False):\n",
    "```\n",
    "que vous appelerez avec `annualized=True` sur des simulations résultant des deux différents jeux de paramètres. Discutez des paramètres, des figures et des implications aux point de vue de la validité de la spécification (vs *misspecification*) du NGARCH."
   ]
  },
  {
   "cell_type": "markdown",
   "id": "73306a75",
   "metadata": {},
   "source": [
    "## Solution Q1"
   ]
  },
  {
   "cell_type": "code",
   "execution_count": 2,
   "id": "1cc5feb7",
   "metadata": {},
   "outputs": [],
   "source": [
    "pass"
   ]
  },
  {
   "cell_type": "markdown",
   "id": "405b3ed7",
   "metadata": {},
   "source": [
    "# Question 2\n",
    "\n",
    "Plus de détails à venir, mais il faudra essentiellement tarifer les options aux deux dates, fournies dans `opprcd961203_108105.csv` et `opprcd200201_108105.csv`."
   ]
  },
  {
   "cell_type": "code",
   "execution_count": null,
   "id": "7bd2cc79",
   "metadata": {},
   "outputs": [],
   "source": []
  }
 ],
 "metadata": {
  "kernelspec": {
   "display_name": "Python 3 (ipykernel)",
   "language": "python",
   "name": "python3"
  },
  "language_info": {
   "codemirror_mode": {
    "name": "ipython",
    "version": 3
   },
   "file_extension": ".py",
   "mimetype": "text/x-python",
   "name": "python",
   "nbconvert_exporter": "python",
   "pygments_lexer": "ipython3",
   "version": "3.9.12"
  }
 },
 "nbformat": 4,
 "nbformat_minor": 5
}
